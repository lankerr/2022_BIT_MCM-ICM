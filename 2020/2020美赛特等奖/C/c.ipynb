{
 "cells": [
  {
   "cell_type": "markdown",
   "source": [
    "## C题的解析\n",
    "C题的题意\n",
    "![jupyter](./641.png)\n",
    "![jupyter](./642.png)\n",
    "![jupyter](./643.png)"
   ],
   "metadata": {
    "collapsed": false
   }
  },
  {
   "cell_type": "markdown",
   "source": [],
   "metadata": {
    "collapsed": false
   }
  },
  {
   "cell_type": "markdown",
   "source": [
    "## 总评\n",
    "这道题目实际上设计了数据挖掘，在自然语言处理方面有比较特别的，评论文本的复杂性和多样性，我们主要看看他们是怎么处理这些数据集的"
   ],
   "metadata": {
    "collapsed": false
   }
  },
  {
   "cell_type": "markdown",
   "source": [
    "## 2002116\n",
    "1.情感分析模型\n",
    "2.CE-VDER模型\n",
    "文本得分的情感被视为是产品成功或者失败的唯一事实，然后就是简单的编码-修改，然后就是这个模型实际上是由两个机器学习的模型一起生成的，这里我们由CE块和VADER块，首先作者把词语分成了五类(看看那个热度图，还是比较漂亮的)，然后是CE块，主要是信息熵，VDER块是一个从会议里面扒下来的一个，然后加权一下..."
   ],
   "metadata": {
    "collapsed": false
   }
  },
  {
   "cell_type": "markdown",
   "source": [
    "## 2003717\n",
    "类似，编码，然后NLP就好了"
   ],
   "metadata": {
    "collapsed": false
   }
  },
  {
   "cell_type": "markdown",
   "source": [
    "具体的，似乎都是NLP+论文+复杂模型，就是在这里叠buff"
   ],
   "metadata": {
    "collapsed": false
   }
  }
 ],
 "metadata": {
  "language_info": {
   "name": "python"
  },
  "orig_nbformat": 4
 },
 "nbformat": 4,
 "nbformat_minor": 2
}
