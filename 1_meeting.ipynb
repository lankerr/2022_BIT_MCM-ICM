{
 "cells": [
  {
   "cell_type": "markdown",
   "metadata": {},
   "source": [
    "1.break the framework into 3 sub-problems\n",
    "\n",
    "how to use?\n",
    "1.the CA fire prediction model\n",
    "2.the SSA drons optimizarion model\n",
    "3.the EOC optimization，最后将无人机优化问题转换为多目标整数规划问题"
   ]
  },
  {
   "cell_type": "markdown",
   "metadata": {},
   "source": [
    "SSA 无人机和EOC优化模型\n",
    "1.区域离散化，M*N的矩阵，每个单位面积是为，然后5km*5km\n",
    "矩阵分为四层分析不同的矩形"
   ]
  },
  {
   "cell_type": "markdown",
   "metadata": {},
   "source": [
    "灵敏度分析：比较拉跨，但是看着好玩"
   ]
  },
  {
   "cell_type": "code",
   "execution_count": null,
   "metadata": {},
   "outputs": [],
   "source": []
  },
  {
   "cell_type": "markdown",
   "metadata": {},
   "source": [
    "格式上:\n",
    "1.图片:Xmind,photoshop\n",
    "2.latex是不是又用的必要？\n",
    "3."
   ]
  },
  {
   "cell_type": "markdown",
   "metadata": {},
   "source": [
    "资料\n",
    "1.外网，肯定是有的\n",
    "2.合适的资料范围？\n",
    "3.引用文献？这里1.google schoral 2.sci_hub 3.百度学术 4.中国知网"
   ]
  },
  {
   "cell_type": "markdown",
   "metadata": {},
   "source": [
    "数学上：\n",
    "1.公式？更多的是套已有模型还是根据自己的解答分析出来？\n",
    "2.除了一些初等的，敢不敢把一些数学系的东西拿出来干(PDE,概率论，博弈论)？"
   ]
  },
  {
   "cell_type": "markdown",
   "metadata": {},
   "source": [
    "代码上：\n",
    "1.肯定：在已有模型上面（灰色，模拟退火）高一层的代码是必须要的\n",
    "2.使用一些高级期刊上面和这个问题相关的更难的？\n",
    "3.使用一些ACM-ICPC的算法？"
   ]
  }
 ],
 "metadata": {
  "kernelspec": {
   "display_name": "Python 3",
   "language": "python",
   "name": "python3"
  },
  "language_info": {
   "codemirror_mode": {
    "name": "ipython",
    "version": 3
   },
   "file_extension": ".py",
   "mimetype": "text/x-python",
   "name": "python",
   "nbconvert_exporter": "python",
   "pygments_lexer": "ipython3",
   "version": "3.8.4 (tags/v3.8.4:dfa645a, Jul 13 2020, 16:46:45) [MSC v.1924 64 bit (AMD64)]"
  },
  "orig_nbformat": 4,
  "vscode": {
   "interpreter": {
    "hash": "723d4b7bc280cd31fdada53ad6420192b9a3a8d60631096143cc718cb9440dc1"
   }
  }
 },
 "nbformat": 4,
 "nbformat_minor": 2
}
