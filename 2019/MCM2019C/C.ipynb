{
 "cells": [
  {
   "cell_type": "code",
   "execution_count": null,
   "metadata": {},
   "outputs": [],
   "source": []
  },
  {
   "attachments": {},
   "cell_type": "markdown",
   "metadata": {},
   "source": [
    "题目:A片使用的问题\n",
    "1.利用NFLIS数据随着实践的推移，寻找我们的五个轴州县的特征，模型预测的未来在哪里呢\n",
    "2.利用美国人口普查的数据，谁在使用，是什么导致了阿片类药物..\n",
    "3.写报告"
   ]
  },
  {
   "attachments": {},
   "cell_type": "markdown",
   "metadata": {},
   "source": [
    "Overall, the MCM/ICM supports and advocates an iterative mathematical modeling process consisting of major\n",
    "elements that include:\n",
    "1. Problem Restatement,\n",
    "2. Assumptions & Justifications,\n",
    "3. Model Construction and Application,\n",
    "4. Model Testing and/or Sensitivity Analysis,\n",
    "5. Analysis of Strengths & Weaknesses."
   ]
  },
  {
   "attachments": {},
   "cell_type": "markdown",
   "metadata": {},
   "source": [
    "根据评价，团队最可能采取的是\"统计\"的方法进行处理，但是也应该对其他办法采取开放的态度\n",
    "其次，根据我们的看法，这些模型可以构建传播模型，\n",
    "1.对于第一问的开放模型，我们需要得到高分，必须按照所有的规定，解决所有的文艺，否则不会超过2分，并且应该解决时间的问题，必须将时间和地理纬度都需要加强一下\n",
    "2.对于第二问的开放模型，我们需要得到7分，必须按照所有的规定，解决所有的文艺，否则不会超过2分，并且应该解决时间的问题\n",
    "3.备忘录，见解释"
   ]
  },
  {
   "attachments": {},
   "cell_type": "markdown",
   "metadata": {},
   "source": [
    "所以，根据判断，我们其实最基本，保证的是写作！其实我们的要求的研判最基本的也是写作，写作成功了那么就已经成功了一半\n",
    "1.完整的答案，覆盖所有的思维\n",
    "2.最后的答案需要前后呼应\n",
    "3.优美的图片，这个(可能)要求我们使用photoshop,还有各种的画图软件"
   ]
  },
  {
   "attachments": {},
   "cell_type": "markdown",
   "metadata": {},
   "source": [
    "# 1900577\n",
    "\n",
    "我们是去思考每一次的模型，构建取每一个县 的距离的平方反比，然后加上数据，采取的一些影响，我们考虑中位数的影响价值，最后得到我们的影响答案属于一篇中规中矩的"
   ]
  },
  {
   "attachments": {},
   "cell_type": "markdown",
   "metadata": {},
   "source": [
    "# 1901213\n",
    "\n",
    "采取这种方法可以比较简单的获取我们的答案\n",
    "x_{t+1} =   QAx_t\n",
    "n(k)t表示每一年的健康度量\n",
    "反正也是一个中规中矩的建模，最后将我们得道德结果采取各种方式进行拟合\n"
   ]
  },
  {
   "attachments": {},
   "cell_type": "markdown",
   "metadata": {},
   "source": [
    "# 1906204\n",
    "\n",
    "首先使用K-means将所有的二值化，然后得到我们的PCA，SVM判别器，最后得到我们的答案"
   ]
  },
  {
   "attachments": {},
   "cell_type": "markdown",
   "metadata": {},
   "source": [
    "# 1922154\n",
    "主要采取元胞自动机的方法，然后得到我们的答案"
   ]
  }
 ],
 "metadata": {
  "language_info": {
   "name": "python"
  },
  "orig_nbformat": 4
 },
 "nbformat": 4,
 "nbformat_minor": 2
}
